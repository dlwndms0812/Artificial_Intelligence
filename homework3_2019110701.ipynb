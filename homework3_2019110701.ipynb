{
  "nbformat": 4,
  "nbformat_minor": 0,
  "metadata": {
    "colab": {
      "name": "homework3-2019110701.ipynb",
      "provenance": [],
      "collapsed_sections": [],
      "authorship_tag": "ABX9TyM/PX/xXFU+1IDurDyQt+fV",
      "include_colab_link": true
    },
    "kernelspec": {
      "display_name": "Python 3",
      "name": "python3"
    },
    "language_info": {
      "name": "python"
    }
  },
  "cells": [
    {
      "cell_type": "markdown",
      "metadata": {
        "id": "view-in-github",
        "colab_type": "text"
      },
      "source": [
        "<a href=\"https://colab.research.google.com/github/dlwndms0812/Artificial_Intelligence/blob/main/homework3_2019110701.ipynb\" target=\"_parent\"><img src=\"https://colab.research.google.com/assets/colab-badge.svg\" alt=\"Open In Colab\"/></a>"
      ]
    },
    {
      "cell_type": "code",
      "metadata": {
        "id": "zT7DaWKdxX7R"
      },
      "source": [
        "!pip uninstall tensorflow\n",
        "!pip install tensorflow==1.15"
      ],
      "execution_count": null,
      "outputs": []
    },
    {
      "cell_type": "code",
      "metadata": {
        "id": "miZrp-um1DxL"
      },
      "source": [
        "import tensorflow as tf\n",
        "import numpy as np\n",
        "\n",
        "from tensorflow.examples.tutorials.mnist import input_data\n",
        "mnist=input_data.read_data_sets(\"./mnist/data/\",one_hot=\"True\")"
      ],
      "execution_count": null,
      "outputs": []
    },
    {
      "cell_type": "code",
      "metadata": {
        "id": "u5NV3npX1V5n"
      },
      "source": [
        "#28*28픽셀=784개의 특징으로 이루어져있음\n",
        "X=tf.placeholder(tf.float32,[None, 784])\n",
        "#레이블은 0-9까지 10개\n",
        "Y=tf.placeholder(tf.float32,[None,10])\n",
        "\n",
        "keep_prob=tf.placeholder(tf.float32)"
      ],
      "execution_count": 3,
      "outputs": []
    },
    {
      "cell_type": "code",
      "metadata": {
        "id": "nzRCXbXU1sTB"
      },
      "source": [
        "#784(입력, 특징개수)->256(첫번째 은닉층)->256(두번째 은닉층)->256(세번째 은닉층)->10(결과값 0-9 분류 개수)\n",
        "W1=tf.Variable(tf.random_normal([784,256], stddev=0.01))\n",
        "L1=tf.nn.relu(tf.matmul(X,W1))\n",
        "L1=tf.nn.dropout(L1, keep_prob) \n",
        "\n",
        "W2=tf.Variable(tf.random_normal([256,256], stddev=0.01))\n",
        "L2=tf.nn.relu(tf.matmul(L1,W2))\n",
        "L2=tf.nn.dropout(L2,keep_prob)\n",
        "\n",
        "W3=tf.Variable(tf.random_normal([256,256], stddev=0.01))\n",
        "L3=tf.nn.relu(tf.matmul(L2,W3))\n",
        "L3=tf.nn.dropout(L3,keep_prob)\n",
        "\n",
        "W4=tf.Variable(tf.random_normal([256,10],stddev=0.01))\n",
        "model=tf.matmul(L3,W4)\n",
        "\n",
        "cost=tf.reduce_mean(tf.nn.softmax_cross_entropy_with_logits_v2(\n",
        "                       logits=model,labels=Y))\n",
        "#GradientDescentOptimizer 사용 수치 0.1로 조정\n",
        "optimizer=tf.train.GradientDescentOptimizer(0.1).minimize(cost)"
      ],
      "execution_count": null,
      "outputs": []
    },
    {
      "cell_type": "code",
      "metadata": {
        "id": "e5voY1gH22nU"
      },
      "source": [
        "init=tf.global_variables_initializer()\n",
        "sess=tf.Session()\n",
        "sess.run(init)\n",
        "\n",
        "batch_size=100\n",
        "total_batch=int(mnist.train.num_examples/batch_size)\n",
        "\n",
        "for epoch in range(30):\n",
        "  total_cost=0\n",
        "\n",
        "  for i in range(total_batch):\n",
        "    batch_xs, batch_ys=mnist.train.next_batch(batch_size)\n",
        "    _, cost_val=sess.run([optimizer,cost],\n",
        "                         feed_dict={X:batch_xs,\n",
        "                                    Y:batch_ys,\n",
        "                                    keep_prob:0.8}) #드롭아웃 수치 0.8\n",
        "    total_cost+=cost_val\n",
        "  \n",
        "  print('Epoch:', '%04d' %(epoch+1),\n",
        "        'Avg. cost=', '{:.3f}'.format(total_cost/total_batch))\n",
        "  \n",
        "print('최적화 완료!')"
      ],
      "execution_count": null,
      "outputs": []
    },
    {
      "cell_type": "code",
      "metadata": {
        "id": "frZ7aaon31Sq"
      },
      "source": [
        "is_correct=tf.equal(tf.argmax(model,1),tf.argmax(Y,1))\n",
        "accuracy=tf.reduce_mean(tf.cast(is_correct, tf.float32))\n",
        "print('정확도:',sess.run(accuracy,\n",
        "                      feed_dict={X:mnist.test.images,\n",
        "                                 Y:mnist.test.labels,\n",
        "                                 keep_prob:1}))"
      ],
      "execution_count": null,
      "outputs": []
    }
  ]
}