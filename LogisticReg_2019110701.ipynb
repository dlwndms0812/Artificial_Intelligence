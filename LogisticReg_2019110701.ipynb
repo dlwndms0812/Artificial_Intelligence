{
  "nbformat": 4,
  "nbformat_minor": 0,
  "metadata": {
    "colab": {
      "name": "LogisticReg-2019110701.ipynb",
      "provenance": [],
      "collapsed_sections": [],
      "authorship_tag": "ABX9TyMmlkbUuXOz/7pwJk5hgdeI",
      "include_colab_link": true
    },
    "kernelspec": {
      "name": "python3",
      "display_name": "Python 3"
    },
    "language_info": {
      "name": "python"
    }
  },
  "cells": [
    {
      "cell_type": "markdown",
      "metadata": {
        "id": "view-in-github",
        "colab_type": "text"
      },
      "source": [
        "<a href=\"https://colab.research.google.com/github/dlwndms0812/Artificial_Intelligence/blob/main/LogisticReg_2019110701.ipynb\" target=\"_parent\"><img src=\"https://colab.research.google.com/assets/colab-badge.svg\" alt=\"Open In Colab\"/></a>"
      ]
    },
    {
      "cell_type": "code",
      "metadata": {
        "id": "xsY6fodxJYS-",
        "colab": {
          "base_uri": "https://localhost:8080/",
          "height": 940
        },
        "outputId": "427c0fbc-28c4-432d-e887-6d47965f1655"
      },
      "source": [
        "!pip uninstall tensorflow\n",
        "!pip install tensorflow==1.15"
      ],
      "execution_count": 120,
      "outputs": [
        {
          "output_type": "stream",
          "name": "stdout",
          "text": [
            "Found existing installation: tensorflow 1.15.0\n",
            "Uninstalling tensorflow-1.15.0:\n",
            "  Would remove:\n",
            "    /usr/local/bin/estimator_ckpt_converter\n",
            "    /usr/local/bin/freeze_graph\n",
            "    /usr/local/bin/saved_model_cli\n",
            "    /usr/local/bin/tensorboard\n",
            "    /usr/local/bin/tf_upgrade_v2\n",
            "    /usr/local/bin/tflite_convert\n",
            "    /usr/local/bin/toco\n",
            "    /usr/local/bin/toco_from_protos\n",
            "    /usr/local/lib/python3.7/dist-packages/tensorflow-1.15.0.dist-info/*\n",
            "    /usr/local/lib/python3.7/dist-packages/tensorflow/*\n",
            "    /usr/local/lib/python3.7/dist-packages/tensorflow_core/*\n",
            "Proceed (y/n)? y\n",
            "  Successfully uninstalled tensorflow-1.15.0\n",
            "Collecting tensorflow==1.15\n",
            "  Using cached tensorflow-1.15.0-cp37-cp37m-manylinux2010_x86_64.whl (412.3 MB)\n",
            "Requirement already satisfied: numpy<2.0,>=1.16.0 in /usr/local/lib/python3.7/dist-packages (from tensorflow==1.15) (1.19.5)\n",
            "Requirement already satisfied: wheel>=0.26 in /usr/local/lib/python3.7/dist-packages (from tensorflow==1.15) (0.37.0)\n",
            "Requirement already satisfied: grpcio>=1.8.6 in /usr/local/lib/python3.7/dist-packages (from tensorflow==1.15) (1.42.0)\n",
            "Requirement already satisfied: tensorflow-estimator==1.15.1 in /usr/local/lib/python3.7/dist-packages (from tensorflow==1.15) (1.15.1)\n",
            "Requirement already satisfied: astor>=0.6.0 in /usr/local/lib/python3.7/dist-packages (from tensorflow==1.15) (0.8.1)\n",
            "Requirement already satisfied: protobuf>=3.6.1 in /usr/local/lib/python3.7/dist-packages (from tensorflow==1.15) (3.17.3)\n",
            "Requirement already satisfied: absl-py>=0.7.0 in /usr/local/lib/python3.7/dist-packages (from tensorflow==1.15) (0.12.0)\n",
            "Requirement already satisfied: six>=1.10.0 in /usr/local/lib/python3.7/dist-packages (from tensorflow==1.15) (1.15.0)\n",
            "Requirement already satisfied: keras-applications>=1.0.8 in /usr/local/lib/python3.7/dist-packages (from tensorflow==1.15) (1.0.8)\n",
            "Requirement already satisfied: google-pasta>=0.1.6 in /usr/local/lib/python3.7/dist-packages (from tensorflow==1.15) (0.2.0)\n",
            "Requirement already satisfied: keras-preprocessing>=1.0.5 in /usr/local/lib/python3.7/dist-packages (from tensorflow==1.15) (1.1.2)\n",
            "Requirement already satisfied: termcolor>=1.1.0 in /usr/local/lib/python3.7/dist-packages (from tensorflow==1.15) (1.1.0)\n",
            "Requirement already satisfied: tensorboard<1.16.0,>=1.15.0 in /usr/local/lib/python3.7/dist-packages (from tensorflow==1.15) (1.15.0)\n",
            "Requirement already satisfied: gast==0.2.2 in /usr/local/lib/python3.7/dist-packages (from tensorflow==1.15) (0.2.2)\n",
            "Requirement already satisfied: wrapt>=1.11.1 in /usr/local/lib/python3.7/dist-packages (from tensorflow==1.15) (1.13.3)\n",
            "Requirement already satisfied: opt-einsum>=2.3.2 in /usr/local/lib/python3.7/dist-packages (from tensorflow==1.15) (3.3.0)\n",
            "Requirement already satisfied: h5py in /usr/local/lib/python3.7/dist-packages (from keras-applications>=1.0.8->tensorflow==1.15) (3.1.0)\n",
            "Requirement already satisfied: setuptools>=41.0.0 in /usr/local/lib/python3.7/dist-packages (from tensorboard<1.16.0,>=1.15.0->tensorflow==1.15) (57.4.0)\n",
            "Requirement already satisfied: markdown>=2.6.8 in /usr/local/lib/python3.7/dist-packages (from tensorboard<1.16.0,>=1.15.0->tensorflow==1.15) (3.3.6)\n",
            "Requirement already satisfied: werkzeug>=0.11.15 in /usr/local/lib/python3.7/dist-packages (from tensorboard<1.16.0,>=1.15.0->tensorflow==1.15) (1.0.1)\n",
            "Requirement already satisfied: importlib-metadata>=4.4 in /usr/local/lib/python3.7/dist-packages (from markdown>=2.6.8->tensorboard<1.16.0,>=1.15.0->tensorflow==1.15) (4.8.2)\n",
            "Requirement already satisfied: zipp>=0.5 in /usr/local/lib/python3.7/dist-packages (from importlib-metadata>=4.4->markdown>=2.6.8->tensorboard<1.16.0,>=1.15.0->tensorflow==1.15) (3.6.0)\n",
            "Requirement already satisfied: typing-extensions>=3.6.4 in /usr/local/lib/python3.7/dist-packages (from importlib-metadata>=4.4->markdown>=2.6.8->tensorboard<1.16.0,>=1.15.0->tensorflow==1.15) (3.10.0.2)\n",
            "Requirement already satisfied: cached-property in /usr/local/lib/python3.7/dist-packages (from h5py->keras-applications>=1.0.8->tensorflow==1.15) (1.5.2)\n",
            "Installing collected packages: tensorflow\n",
            "\u001b[31mERROR: pip's dependency resolver does not currently take into account all the packages that are installed. This behaviour is the source of the following dependency conflicts.\n",
            "kapre 0.3.6 requires tensorflow>=2.0.0, but you have tensorflow 1.15.0 which is incompatible.\u001b[0m\n",
            "Successfully installed tensorflow-1.15.0\n"
          ]
        },
        {
          "output_type": "display_data",
          "data": {
            "application/vnd.colab-display-data+json": {
              "pip_warning": {
                "packages": [
                  "tensorflow",
                  "tensorflow_core"
                ]
              }
            }
          },
          "metadata": {}
        }
      ]
    },
    {
      "cell_type": "code",
      "metadata": {
        "id": "GIDam5O0Jmtt"
      },
      "source": [
        "import tensorflow as tf\n",
        "import numpy as np\n",
        "\n",
        "#[털, 날개]\n",
        "x_data=np.array(\n",
        "    [[0,0], [1,0], [1,1], [0,0], [0,0], [0,1], [0,1], [1,0], [1,1], [0,0], \n",
        "     [0,1], [0,0], [1,1], [0,0], [0,1], [1,1], [1,0], [0,1], [0,0], [1,1]])\n",
        "\n",
        "#[기타, 포유류, 조류]\n",
        "y_data=np.array([\n",
        "    [1,0,0], [0,1,0], [0,0,1], [1,0,0], [1,0,0], [0,0,1], [0,0,1], [0,1,0], [0,0,1], [1,0,0],\n",
        "    [0,0,1], [1,0,0], [0,0,1], [1,0,0], [0,0,1], [0,0,1], [0,1,0], [0,0,1], [1,0,0], [0,0,1]])\n",
        "\n",
        "X=tf.placeholder(tf.float32)\n",
        "Y=tf.placeholder(tf.float32)"
      ],
      "execution_count": 9,
      "outputs": []
    },
    {
      "cell_type": "code",
      "metadata": {
        "id": "P6zZ2rcAKYsS"
      },
      "source": [
        "#은닉층이 총 3개이므로 w3, b3 추가\n",
        "W1=tf.Variable(tf.random_uniform([2,10],-1.,1.))  \n",
        "W2=tf.Variable(tf.random_uniform([10,20],-1.,1.))\n",
        "W3=tf.Variable(tf.random_uniform([20,3],-1.,1.))\n",
        "\n",
        "b1=tf.Variable(tf.zeros([10]))\n",
        "b2=tf.Variable(tf.zeros([20]))\n",
        "b3=tf.Variable(tf.zeros([3]))"
      ],
      "execution_count": 10,
      "outputs": []
    },
    {
      "cell_type": "code",
      "metadata": {
        "id": "bvXG35U2LyAC"
      },
      "source": [
        "#가중치 곱하고, ReLU에 적용, 은닉층이 3개이므로 L3 추가\n",
        "L1=tf.add(tf.matmul(X, W1), b1)\n",
        "L1=tf.nn.relu(L1)\n",
        "\n",
        "L2=tf.add(tf.matmul(L1,W2),b2)\n",
        "L2=tf.nn.relu(L2)"
      ],
      "execution_count": 11,
      "outputs": []
    },
    {
      "cell_type": "code",
      "metadata": {
        "id": "iQaGgZllMA1D"
      },
      "source": [
        "model=tf.add(tf.matmul(L2, W3),b3)"
      ],
      "execution_count": 12,
      "outputs": []
    },
    {
      "cell_type": "code",
      "metadata": {
        "id": "RU87U766MG36"
      },
      "source": [
        "cost=tf.reduce_mean(\n",
        "    tf.nn.softmax_cross_entropy_with_logits_v2(labels=Y, logits=model)) \n",
        "\n",
        "optimizer=tf.train.GradientDescentOptimizer(learning_rate=0.01)  #GradientDescentOptimizer 사용 \n",
        "\n",
        "train_op=optimizer.minimize(cost)"
      ],
      "execution_count": 13,
      "outputs": []
    },
    {
      "cell_type": "code",
      "metadata": {
        "id": "Mv9OYJgGMmST",
        "colab": {
          "base_uri": "https://localhost:8080/"
        },
        "outputId": "fc2a3aa1-74bd-4e5e-f55e-2b8f1b8c091c"
      },
      "source": [
        "#텐서플로의 세션 초기화\n",
        "init=tf.global_variables_initializer()\n",
        "sess=tf.Session()\n",
        "sess.run(init)\n",
        "\n",
        "#앞서 구성한 특징과 레이블 데이터를 이용해 학습을 100번 진행\n",
        "for step in range(100):\n",
        "  sess.run(train_op, feed_dict={X:x_data, Y:y_data})\n",
        "\n",
        "  #학습 도중 10번에 한 번씩 손실값을 출력\n",
        "  if(step+1) % 10 ==0:\n",
        "    print(step+1,sess.run(cost,feed_dict={X:x_data, Y: y_data}))\n",
        "\n",
        "prediction=tf.argmax(model,1)\n",
        "target=tf.argmax(Y,1)\n",
        "print('예측값:', sess.run(prediction, feed_dict={X:x_data}))\n",
        "print('실제값:', sess.run(target, feed_dict={Y:y_data}))\n",
        "\n",
        "is_correct=tf.equal(prediction, target)\n",
        "accuracy=tf.reduce_mean(tf.cast(is_correct, tf.float32))\n",
        "print('정확도: %.2f' % sess.run(accuracy*100, feed_dict={X:x_data, Y:y_data}))"
      ],
      "execution_count": 15,
      "outputs": [
        {
          "output_type": "stream",
          "name": "stdout",
          "text": [
            "10 1.3656441\n",
            "20 1.1496296\n",
            "30 1.0464712\n",
            "40 0.973715\n",
            "50 0.9397901\n",
            "60 0.91009843\n",
            "70 0.8846239\n",
            "80 0.8604703\n",
            "90 0.8370751\n",
            "100 0.8174408\n",
            "예측값: [0 1 2 0 0 2 2 1 2 0 2 0 2 0 2 2 1 2 0 2]\n",
            "실제값: [0 1 2 0 0 2 2 1 2 0 2 0 2 0 2 2 1 2 0 2]\n",
            "정확도: 100.00\n"
          ]
        }
      ]
    }
  ]
}