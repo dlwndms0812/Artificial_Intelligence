{
  "nbformat": 4,
  "nbformat_minor": 0,
  "metadata": {
    "colab": {
      "name": "LinearReg-2019110701.ipynb",
      "provenance": [],
      "collapsed_sections": [],
      "authorship_tag": "ABX9TyOnAGcCGQo2zDo0/4iI9nBe",
      "include_colab_link": true
    },
    "kernelspec": {
      "name": "python3",
      "display_name": "Python 3"
    },
    "language_info": {
      "name": "python"
    }
  },
  "cells": [
    {
      "cell_type": "markdown",
      "metadata": {
        "id": "view-in-github",
        "colab_type": "text"
      },
      "source": [
        "<a href=\"https://colab.research.google.com/github/dlwndms0812/Artificial_Intelligence/blob/main/LinearReg_2019110701.ipynb\" target=\"_parent\"><img src=\"https://colab.research.google.com/assets/colab-badge.svg\" alt=\"Open In Colab\"/></a>"
      ]
    },
    {
      "cell_type": "code",
      "metadata": {
        "id": "rAcJXPLDWzFh",
        "colab": {
          "base_uri": "https://localhost:8080/"
        },
        "outputId": "e16eb5d8-4fa0-4288-a293-8f53a2bf5877"
      },
      "source": [
        "!pip uninstall tensorflow\n",
        "!pip install tensorflow==1.15"
      ],
      "execution_count": 1,
      "outputs": [
        {
          "output_type": "stream",
          "name": "stdout",
          "text": [
            "Found existing installation: tensorflow 1.15.0\n",
            "Uninstalling tensorflow-1.15.0:\n",
            "  Would remove:\n",
            "    /usr/local/bin/estimator_ckpt_converter\n",
            "    /usr/local/bin/freeze_graph\n",
            "    /usr/local/bin/saved_model_cli\n",
            "    /usr/local/bin/tensorboard\n",
            "    /usr/local/bin/tf_upgrade_v2\n",
            "    /usr/local/bin/tflite_convert\n",
            "    /usr/local/bin/toco\n",
            "    /usr/local/bin/toco_from_protos\n",
            "    /usr/local/lib/python3.7/dist-packages/tensorflow-1.15.0.dist-info/*\n",
            "    /usr/local/lib/python3.7/dist-packages/tensorflow/*\n",
            "    /usr/local/lib/python3.7/dist-packages/tensorflow_core/*\n",
            "Proceed (y/n)? y\n",
            "  Successfully uninstalled tensorflow-1.15.0\n",
            "Collecting tensorflow==1.15\n",
            "  Using cached tensorflow-1.15.0-cp37-cp37m-manylinux2010_x86_64.whl (412.3 MB)\n",
            "Requirement already satisfied: wheel>=0.26 in /usr/local/lib/python3.7/dist-packages (from tensorflow==1.15) (0.37.0)\n",
            "Requirement already satisfied: tensorboard<1.16.0,>=1.15.0 in /usr/local/lib/python3.7/dist-packages (from tensorflow==1.15) (1.15.0)\n",
            "Requirement already satisfied: gast==0.2.2 in /usr/local/lib/python3.7/dist-packages (from tensorflow==1.15) (0.2.2)\n",
            "Requirement already satisfied: absl-py>=0.7.0 in /usr/local/lib/python3.7/dist-packages (from tensorflow==1.15) (0.12.0)\n",
            "Requirement already satisfied: grpcio>=1.8.6 in /usr/local/lib/python3.7/dist-packages (from tensorflow==1.15) (1.41.1)\n",
            "Requirement already satisfied: astor>=0.6.0 in /usr/local/lib/python3.7/dist-packages (from tensorflow==1.15) (0.8.1)\n",
            "Requirement already satisfied: opt-einsum>=2.3.2 in /usr/local/lib/python3.7/dist-packages (from tensorflow==1.15) (3.3.0)\n",
            "Requirement already satisfied: numpy<2.0,>=1.16.0 in /usr/local/lib/python3.7/dist-packages (from tensorflow==1.15) (1.19.5)\n",
            "Requirement already satisfied: keras-preprocessing>=1.0.5 in /usr/local/lib/python3.7/dist-packages (from tensorflow==1.15) (1.1.2)\n",
            "Requirement already satisfied: wrapt>=1.11.1 in /usr/local/lib/python3.7/dist-packages (from tensorflow==1.15) (1.13.3)\n",
            "Requirement already satisfied: six>=1.10.0 in /usr/local/lib/python3.7/dist-packages (from tensorflow==1.15) (1.15.0)\n",
            "Requirement already satisfied: tensorflow-estimator==1.15.1 in /usr/local/lib/python3.7/dist-packages (from tensorflow==1.15) (1.15.1)\n",
            "Requirement already satisfied: termcolor>=1.1.0 in /usr/local/lib/python3.7/dist-packages (from tensorflow==1.15) (1.1.0)\n",
            "Requirement already satisfied: google-pasta>=0.1.6 in /usr/local/lib/python3.7/dist-packages (from tensorflow==1.15) (0.2.0)\n",
            "Requirement already satisfied: protobuf>=3.6.1 in /usr/local/lib/python3.7/dist-packages (from tensorflow==1.15) (3.17.3)\n",
            "Requirement already satisfied: keras-applications>=1.0.8 in /usr/local/lib/python3.7/dist-packages (from tensorflow==1.15) (1.0.8)\n",
            "Requirement already satisfied: h5py in /usr/local/lib/python3.7/dist-packages (from keras-applications>=1.0.8->tensorflow==1.15) (3.1.0)\n",
            "Requirement already satisfied: werkzeug>=0.11.15 in /usr/local/lib/python3.7/dist-packages (from tensorboard<1.16.0,>=1.15.0->tensorflow==1.15) (1.0.1)\n",
            "Requirement already satisfied: markdown>=2.6.8 in /usr/local/lib/python3.7/dist-packages (from tensorboard<1.16.0,>=1.15.0->tensorflow==1.15) (3.3.4)\n",
            "Requirement already satisfied: setuptools>=41.0.0 in /usr/local/lib/python3.7/dist-packages (from tensorboard<1.16.0,>=1.15.0->tensorflow==1.15) (57.4.0)\n",
            "Requirement already satisfied: importlib-metadata in /usr/local/lib/python3.7/dist-packages (from markdown>=2.6.8->tensorboard<1.16.0,>=1.15.0->tensorflow==1.15) (4.8.2)\n",
            "Requirement already satisfied: cached-property in /usr/local/lib/python3.7/dist-packages (from h5py->keras-applications>=1.0.8->tensorflow==1.15) (1.5.2)\n",
            "Requirement already satisfied: typing-extensions>=3.6.4 in /usr/local/lib/python3.7/dist-packages (from importlib-metadata->markdown>=2.6.8->tensorboard<1.16.0,>=1.15.0->tensorflow==1.15) (3.10.0.2)\n",
            "Requirement already satisfied: zipp>=0.5 in /usr/local/lib/python3.7/dist-packages (from importlib-metadata->markdown>=2.6.8->tensorboard<1.16.0,>=1.15.0->tensorflow==1.15) (3.6.0)\n",
            "Installing collected packages: tensorflow\n",
            "\u001b[31mERROR: pip's dependency resolver does not currently take into account all the packages that are installed. This behaviour is the source of the following dependency conflicts.\n",
            "kapre 0.3.5 requires tensorflow>=2.0.0, but you have tensorflow 1.15.0 which is incompatible.\u001b[0m\n",
            "Successfully installed tensorflow-1.15.0\n"
          ]
        }
      ]
    },
    {
      "cell_type": "code",
      "metadata": {
        "id": "ZkNVxlGiW9KS"
      },
      "source": [
        "import tensorflow as tf\n",
        "import numpy as np #무작위\n",
        "\n",
        "# 키, 몸무게 데이터 설정\n",
        "x_data=[150.3, 173.2, 168.5, 148.7, 188.1, 162.3, 158.0, 178.8, 155.2, 182.4, 163.3, 154.2, 190.7, 166.4, 171.8, 183.1, 174.4, 158.7, 169.2, 186.7] #키\n",
        "y_data=[40.6, 77.1, 54.2, 49.8, 74.2, 45.5, 60.7, 66.1, 46.2, 74.8, 53.3, 42.2, 94.8, 80.1, 54.7, 78.2, 62.7, 52.9, 50.6, 76.1 ] #몸무게"
      ],
      "execution_count": 2,
      "outputs": []
    },
    {
      "cell_type": "code",
      "metadata": {
        "id": "N_rpo6afXOPv"
      },
      "source": [
        "#x와 y의 상관관계를 설명하기 위한 W,b 초기화\n",
        "W=tf.Variable(tf.random_uniform([1],-1.0,1.0))\n",
        "b=tf.Variable(tf.random_uniform([1],-1.0,1.0))"
      ],
      "execution_count": 3,
      "outputs": []
    },
    {
      "cell_type": "code",
      "metadata": {
        "id": "URfEVLvaYfBL"
      },
      "source": [
        "# 자료를 입력받을 플레이스 홀더 설정\n",
        "X=tf.placeholder(tf.float32, name=\"X\")\n",
        "Y=tf.placeholder(tf.float32, name=\"Y\")"
      ],
      "execution_count": 4,
      "outputs": []
    },
    {
      "cell_type": "code",
      "metadata": {
        "id": "4zzEvn5NYm5u"
      },
      "source": [
        "#x와 y의 선형관계를 분석하기 위한 수식 작성\n",
        "hypothesis=W*X+b"
      ],
      "execution_count": 5,
      "outputs": []
    },
    {
      "cell_type": "code",
      "metadata": {
        "id": "9thRxhSlYqWi"
      },
      "source": [
        "#손실함수 작성\n",
        "cost=tf.reduce_mean(tf.square(hypothesis-Y))"
      ],
      "execution_count": 6,
      "outputs": []
    },
    {
      "cell_type": "code",
      "metadata": {
        "id": "Tke-P1e1Ywyk"
      },
      "source": [
        "#최적화 함수(경사하강법)를 이용해 손실값을 최소화하는 연산 그래프 생성\n",
        "optimizer=tf.train.GradientDescentOptimizer(learning_rate=0.00001) #학습률을 조정 안그러면 inf와 nan이 나옴 \n",
        "train_op=optimizer.minimize(cost)"
      ],
      "execution_count": 7,
      "outputs": []
    },
    {
      "cell_type": "code",
      "metadata": {
        "colab": {
          "base_uri": "https://localhost:8080/"
        },
        "id": "eeFApAlDY7KM",
        "outputId": "139cd26b-f91f-4731-e18d-be68abae6c65"
      },
      "source": [
        "#세션 생성 및 변수 초기화\n",
        "with tf.Session() as sess:\n",
        "  sess.run(tf.global_variables_initializer())\n",
        "\n",
        "#최적화를 수행하는 그래프인 train_op 실행\n",
        "  for step in range(20):\n",
        "    _, cost_val=sess.run([train_op,cost], feed_dict={X: x_data, Y: y_data})\n",
        "\n",
        "    print(step, cost_val, sess.run(W), sess.run(b))\n",
        "\n",
        "  print(\"\\n===Test===\")\n",
        "  print(\"X: 138.7, Y: \",sess.run(hypothesis, feed_dict={X:138.7}))\n",
        "  print(\"X: 181.4, Y: \", sess.run(hypothesis, feed_dict={X:181.4}))"
      ],
      "execution_count": 10,
      "outputs": [
        {
          "output_type": "stream",
          "name": "stdout",
          "text": [
            "0 13753.768 [0.08192036] [-0.95580876]\n",
            "1 2578.1238 [0.24998266] [-0.9548321]\n",
            "2 566.6673 [0.32128266] [-0.95442414]\n",
            "3 204.6338 [0.35153154] [-0.9542575]\n",
            "4 139.47284 [0.3643646] [-0.9541932]\n",
            "5 127.74479 [0.369809] [-0.9541723]\n",
            "6 125.63389 [0.37211883] [-0.95416987]\n",
            "7 125.25397 [0.3730988] [-0.95417523]\n",
            "8 125.18557 [0.3735146] [-0.95418394]\n",
            "9 125.17323 [0.37369102] [-0.954194]\n",
            "10 125.17102 [0.37376592] [-0.9542047]\n",
            "11 125.170616 [0.3737977] [-0.95421565]\n",
            "12 125.17051 [0.37381124] [-0.9542267]\n",
            "13 125.170456 [0.37381703] [-0.95423776]\n",
            "14 125.17047 [0.37381953] [-0.95424885]\n",
            "15 125.17043 [0.3738206] [-0.95426]\n",
            "16 125.170456 [0.3738211] [-0.95427114]\n",
            "17 125.170456 [0.37382135] [-0.9542823]\n",
            "18 125.170456 [0.3738215] [-0.95429343]\n",
            "19 125.170425 [0.3738216] [-0.9543046]\n",
            "\n",
            "===Test===\n",
            "X: 138.7, Y:  [50.89475]\n",
            "X: 181.4, Y:  [66.856926]\n"
          ]
        }
      ]
    }
  ]
}